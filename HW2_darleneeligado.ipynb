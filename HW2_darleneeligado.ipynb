{
 "cells": [
  {
   "cell_type": "markdown",
   "id": "5073d57a",
   "metadata": {},
   "source": [
    "# Course 3401\n",
    "## Course Description \n",
    "### Lab Dates: Friday \n",
    "The purpose of this lab is: \n",
    "\n",
    "- **Install Anaconda** \n",
    "- *Basic Python Code*\n",
    "- ***Math Operation*** "
   ]
  },
  {
   "cell_type": "markdown",
   "id": "c96095d5",
   "metadata": {},
   "source": [
    "This `class` is amazing"
   ]
  },
  {
   "cell_type": "markdown",
   "id": "2310ce51",
   "metadata": {},
   "source": [
    "~~This class is amazing~~"
   ]
  },
  {
   "cell_type": "markdown",
   "id": "d17c315b",
   "metadata": {},
   "source": [
    "This is my google link (https://www.sanrio.com/)"
   ]
  },
  {
   "cell_type": "markdown",
   "id": "cd8bc25d",
   "metadata": {},
   "source": [
    "![Ragdoll](https://moderncat.com/wp-content/uploads/2015/12/Ragdoll-640x436.jpg)"
   ]
  },
  {
   "cell_type": "code",
   "execution_count": 6,
   "id": "b6da8701",
   "metadata": {},
   "outputs": [
    {
     "name": "stdout",
     "output_type": "stream",
     "text": [
      "Hi Marszm\n"
     ]
    }
   ],
   "source": [
    "print('Hi Marszm')"
   ]
  },
  {
   "cell_type": "code",
   "execution_count": null,
   "id": "629fa3b4",
   "metadata": {},
   "outputs": [],
   "source": []
  }
 ],
 "metadata": {
  "kernelspec": {
   "display_name": "Python 3 (ipykernel)",
   "language": "python",
   "name": "python3"
  },
  "language_info": {
   "codemirror_mode": {
    "name": "ipython",
    "version": 3
   },
   "file_extension": ".py",
   "mimetype": "text/x-python",
   "name": "python",
   "nbconvert_exporter": "python",
   "pygments_lexer": "ipython3",
   "version": "3.11.4"
  }
 },
 "nbformat": 4,
 "nbformat_minor": 5
}
